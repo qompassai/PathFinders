{
 "cells": [
  {
   "cell_type": "code",
   "execution_count": 1,
   "id": "abda6dec",
   "metadata": {
    "execution": {
     "iopub.execute_input": "2024-10-30T20:40:24.558230Z",
     "iopub.status.busy": "2024-10-30T20:40:24.557316Z",
     "iopub.status.idle": "2024-10-30T20:41:46.491937Z",
     "shell.execute_reply": "2024-10-30T20:41:46.491046Z",
     "shell.execute_reply.started": "2024-10-30T20:40:24.558170Z"
    }
   },
   "outputs": [
    {
     "name": "stdout",
     "output_type": "stream",
     "text": [
      "Place your right index finger on the fingerprint reader\n",
      "Failed to match fingerprint\n",
      "Place your right index finger on the fingerprint reader\n",
      "\u001b[?25l\u001b[1;34m::\u001b[0;1m Synchronizing package databases...\n",
      "\u001b[0m core\n",
      " extra\n",
      " community\n",
      " multilib\n",
      " chaotic-aur\n",
      " blackarch\n",
      "\u001b[2Eotic-aur           670.9 KiB   769 KiB/s 00:01 [----------------------] 100%;37m \u001b[m\u001b[0;37mo\u001b[m\u001b[0;37m \u001b[m\u001b[0;37m \u001b[m\u001b[0;37mo\u001b[m\u001b[0;37m \u001b[m\u001b[0;37m \u001b[m]  64%r            10.7 KiB  0.00   B/s --:-- [\u001b[1;33mc\u001b[m\u001b[0;37mo\u001b[m\u001b[0;37m \u001b[m\u001b[0;37m \u001b[m\u001b[0;37mo\u001b[m\u001b[0;37m \u001b[m\u001b[0;37m \u001b[m\u001b[0;37mo\u001b[m\u001b[0;37m \u001b[m\u001b[0;37m \u001b[m\u001b[0;37mo\u001b[m\u001b[0;37m \u001b[m\u001b[0;37m \u001b[m\u001b[0;37mo\u001b[m\u001b[0;37m \u001b[m\u001b[0;37m \u001b[m\u001b[0;37mo\u001b[m\u001b[0;37m \u001b[m\u001b[0;37m \u001b[m\u001b[0;37mo\u001b[m\u001b[0;37m \u001b[m\u001b[0;37m \u001b[m]   1%\u001b[1;33mwarning: \u001b[0mcuda-12.6.2-2 is up to date -- reinstalling\n",
      "\u001b[1;33mwarning: \u001b[0mlibpng-1.6.44-1 is up to date -- reinstalling\n",
      "\u001b[1;33mwarning: \u001b[0msdl2-2.30.8-1 is up to date -- reinstalling\n",
      "\u001b[1;33mwarning: \u001b[0msdl2_image-2.8.2-6 is up to date -- reinstalling\n",
      "\u001b[1;33mwarning: \u001b[0msdl2_mixer-2.8.0-1 is up to date -- reinstalling\n",
      "\u001b[1;33mwarning: \u001b[0msdl2_ttf-2.22.0-1 is up to date -- reinstalling\n",
      "\u001b[1;33mwarning: \u001b[0mlibjpeg-turbo-3.0.4-1 is up to date -- reinstalling\n",
      "\u001b[1;33mwarning: \u001b[0mlibtiff-4.7.0-1 is up to date -- reinstalling\n",
      "\u001b[1;33mwarning: \u001b[0malsa-lib-1.2.12-1 is up to date -- reinstalling\n",
      "\u001b[1;34m::\u001b[0;1m Starting full system upgrade...\n",
      "\u001b[0m\u001b[1;33mwarning: \u001b[0mchoosenim: local (0.8.9-1) is newer than chaotic-aur (0.8.7-3)\n",
      "\u001b[1;33mwarning: \u001b[0mlinux-mainline-headers: local (6.12rc3-1) is newer than chaotic-aur (6.12rc2-1)\n",
      "\u001b[1;33mwarning: \u001b[0mmeanalyzer: local (1.307.0.r345-1) is newer than blackarch (1.273.0-3)\n",
      "\u001b[1;33mwarning: \u001b[0mmetals: local (1.3.5-1) is newer than chaotic-aur (1.3.0-1)\n",
      "\u001b[1;33mwarning: \u001b[0mperl-net-ssh2: local (0.73-1) is newer than blackarch (0.72-4)\n",
      "\u001b[1;33mwarning: \u001b[0mpython-speechrecognition: local (3.10.4-1) is newer than blackarch (3.8.1-10)\n",
      "\u001b[1;33mwarning: \u001b[0mpython-textblob: local (0.18.0-1) is newer than blackarch (0.17.1-4)\n",
      "\u001b[1;33mwarning: \u001b[0mpython2-atomicwrites: local (1.4.1-1) is newer than blackarch (1.4.0-7)\n",
      "\u001b[1;33mwarning: \u001b[0msasm: local (3.14.0-1) is newer than blackarch (3.2.0-1)\n",
      "resolving dependencies...\n",
      "looking for conflicting packages...\n",
      "\n",
      "\u001b[0;1mPackage (9)        \u001b[0m  \u001b[0;1mOld Version\u001b[0m  \u001b[0;1mNew Version\u001b[0m  \u001b[0;1mNet Change\u001b[0m\n",
      "\n",
      "extra/alsa-lib       1.2.12-1     1.2.12-1       0.00 MiB\n",
      "extra/cuda           12.6.2-2     12.6.2-2       0.00 MiB\n",
      "extra/libjpeg-turbo  3.0.4-1      3.0.4-1        0.00 MiB\n",
      "extra/libpng         1.6.44-1     1.6.44-1       0.00 MiB\n",
      "extra/libtiff        4.7.0-1      4.7.0-1        0.00 MiB\n",
      "extra/sdl2           2.30.8-1     2.30.8-1       0.00 MiB\n",
      "extra/sdl2_image     2.8.2-6      2.8.2-6        0.00 MiB\n",
      "extra/sdl2_mixer     2.8.0-1      2.8.0-1        0.00 MiB\n",
      "extra/sdl2_ttf       2.22.0-1     2.22.0-1       0.00 MiB\n",
      "\n",
      "\u001b[0;1mTotal Installed Size:\u001b[0m  4919.05 MiB\n",
      "\u001b[0;1mNet Upgrade Size:    \u001b[0m     0.00 MiB\n",
      "\n",
      "\u001b[1;34m::\u001b[0;1m Proceed with installation? [Y/n] \u001b[0m\n",
      "(9/9) checking keys in keyring                     [----------------------] 100%[m\u001b[0;37m \u001b[m\u001b[0;37m \u001b[m]  88%[m\u001b[0;37m \u001b[m\u001b[0;37m \u001b[m]  77%\u001b[m\u001b[0;37m \u001b[m]  66%\u001b[m\u001b[0;37m \u001b[m]  55%[m\u001b[0;37m \u001b[m\u001b[0;37m \u001b[m]  44%\u001b[m\u001b[0;37m \u001b[m]  33%[m\u001b[0;37m \u001b[m\u001b[0;37m \u001b[m]  22%\u001b[m\u001b[0;37m \u001b[m]  11%\u001b[m\u001b[0;37m \u001b[m]   0%\n",
      "(9/9) checking package integrity                   [----------------------] 100%c\u001b[m]  99%7m \u001b[m\u001b[0;37mo\u001b[m\u001b[0;37m \u001b[m\u001b[0;37m \u001b[m\u001b[0;37mo\u001b[m\u001b[0;37m \u001b[m\u001b[0;37m \u001b[m\u001b[0;37mo\u001b[m\u001b[0;37m \u001b[m\u001b[0;37m \u001b[m\u001b[0;37mo\u001b[m\u001b[0;37m \u001b[m\u001b[0;37m \u001b[m\u001b[0;37mo\u001b[m\u001b[0;37m \u001b[m\u001b[0;37m \u001b[m\u001b[0;37mo\u001b[m\u001b[0;37m \u001b[m\u001b[0;37m \u001b[m]   0%\n",
      "(9/9) loading package files                        [----------------------] 100%c\u001b[m]  99%7m \u001b[m\u001b[0;37mo\u001b[m\u001b[0;37m \u001b[m\u001b[0;37m \u001b[m\u001b[0;37mo\u001b[m\u001b[0;37m \u001b[m\u001b[0;37m \u001b[m\u001b[0;37mo\u001b[m\u001b[0;37m \u001b[m\u001b[0;37m \u001b[m\u001b[0;37mo\u001b[m\u001b[0;37m \u001b[m\u001b[0;37m \u001b[m\u001b[0;37mo\u001b[m\u001b[0;37m \u001b[m\u001b[0;37m \u001b[m\u001b[0;37mo\u001b[m\u001b[0;37m \u001b[m\u001b[0;37m \u001b[m]   0%\n",
      "(9/9) checking for file conflicts                  [----------------------] 100%[m\u001b[0;37m \u001b[m\u001b[0;37m \u001b[m]  88%[m\u001b[0;37m \u001b[m\u001b[0;37m \u001b[m]  77%\u001b[m\u001b[0;37m \u001b[m]  66%\u001b[m\u001b[0;37m \u001b[m]  55%[m\u001b[0;37m \u001b[m\u001b[0;37m \u001b[m]  44%\u001b[m\u001b[0;37m \u001b[m]  33%[m\u001b[0;37m \u001b[m\u001b[0;37m \u001b[m]  22%\u001b[m\u001b[0;37m \u001b[m]  11%\u001b[m\u001b[0;37m \u001b[m]   0%\n",
      "(9/9) checking available disk space                [----------------------] 100%[m\u001b[0;37m \u001b[m\u001b[0;37m \u001b[m]  88%[m\u001b[0;37m \u001b[m\u001b[0;37m \u001b[m]  77%\u001b[m\u001b[0;37m \u001b[m]  66%\u001b[m\u001b[0;37m \u001b[m]  55%[m\u001b[0;37m \u001b[m\u001b[0;37m \u001b[m]  44%\u001b[m\u001b[0;37m \u001b[m]  33%[m\u001b[0;37m \u001b[m\u001b[0;37m \u001b[m]  22%\u001b[m\u001b[0;37m \u001b[m]  11%\u001b[m\u001b[0;37m \u001b[m]   0%\n",
      "\u001b[1;34m::\u001b[0;1m Running pre-transaction hooks...\n",
      "\u001b[0m(1/4) Creating Timeshift snapshot before upgrade...\n",
      "Using system disk as snapshot device for creating snapshots in BTRFS mode\n",
      "Mounted '/dev/nvme0n1p2' at '/run/timeshift/280811/backup'\n",
      "btrfs: Quotas are not enabled\n",
      "Creating new backup...(BTRFS)\n",
      "Saving to device: /dev/nvme0n1p2, mounted at path: /run/timeshift/280811/backup\n",
      "Created directory: /run/timeshift/280811/backup/timeshift-btrfs/snapshots/2024-10-30_13-40-40\n",
      "Created subvolume snapshot: /run/timeshift/280811/backup/timeshift-btrfs/snapshots/2024-10-30_13-40-40/@\n",
      "Created subvolume snapshot: /run/timeshift/280811/backup/timeshift-btrfs/snapshots/2024-10-30_13-40-40/@home\n",
      "Created control file: /run/timeshift/280811/backup/timeshift-btrfs/snapshots/2024-10-30_13-40-40/info.json\n",
      "BTRFS Snapshot saved successfully (1s)\n",
      "Tagged snapshot '2024-10-30_13-40-40': ondemand\n",
      "------------------------------------------------------------------------------\n",
      "Mounted '/dev/nvme0n1p2' at '/run/timeshift/280950/backup'\n",
      "btrfs: Quotas are not enabled\n",
      "------------------------------------------------------------------------------\n",
      "Removing snapshot: 2024-10-30_13-00-46\n",
      "Deleting subvolume: @home (Id:721)\n",
      "Deleted subvolume: @home (Id:721)\n",
      "\n",
      "Deleting subvolume: @ (Id:720)\n",
      "Deleted subvolume: @ (Id:720)\n",
      "\n",
      "Deleted directory: /run/timeshift/280950/backup/timeshift-btrfs/snapshots/2024-10-30_13-00-46\n",
      "Removed snapshot: 2024-10-30_13-00-46\n",
      "------------------------------------------------------------------------------\n",
      "Generating grub configuration file ...\n",
      "Found theme: /usr/share/grub/themes/Vimix/theme.txt\n",
      "Found linux image: /boot/vmlinuz-linux-zen\n",
      "Found initrd image: /boot/intel-ucode.img /boot/amd-ucode.img /boot/initramfs-linux-zen.img\n",
      "Found linux image: /boot/vmlinuz-linux-lts\n",
      "Found initrd image: /boot/intel-ucode.img /boot/amd-ucode.img\n",
      "Found fallback initrd image(s) in /boot:  intel-ucode.img amd-ucode.img initramfs-linux-lts-fallback.img\n",
      "Found linux image: /boot/vmlinuz-linux\n",
      "Found initrd image: /boot/intel-ucode.img /boot/amd-ucode.img /boot/initramfs-linux.img\n",
      "Warning: os-prober will be executed to detect other bootable partitions.\n",
      "Its output will be used to detect bootable binaries on them and create new boot entries.\n",
      "Adding boot menu entry for UEFI Firmware Settings ...\n",
      "Detecting snapshots ...\n",
      "Found snapshot: 2024-10-30 13:40:41 | timeshift-btrfs/snapshots/2024-10-30_13-40-40/@ | ondemand | {timeshift-autosnap} {created before upgrade} |\n",
      "Found snapshot: 2024-10-30 13:36:53 | timeshift-btrfs/snapshots/2024-10-30_13-36-53/@ | ondemand | {timeshift-autosnap} {created before upgrade} |\n",
      "Found snapshot: 2024-10-30 13:22:17 | timeshift-btrfs/snapshots/2024-10-30_13-22-17/@ | ondemand | {timeshift-autosnap} {created before upgrade} |\n",
      "Found snapshot: 2024-09-06 10:37:05 | timeshift-btrfs/snapshots/2024-09-06_10-37-05/@ | ondemand | N/A                                           |\n",
      "Found snapshot: 2024-09-05 13:54:27 | timeshift-btrfs/snapshots/2024-09-05_13-54-27/@ | ondemand | N/A                                           |\n",
      "Found snapshot: 2024-08-29 11:07:17 | @                                               | N/A      | N/A                                           |\n",
      "Found snapshot: 2024-08-29 11:06:37 | timeshift-btrfs/snapshots/2024-08-29_11-06-37/@ | ondemand | N/A                                           |\n",
      "Found snapshot: 2024-08-28 20:58:22 | timeshift-btrfs/snapshots/2024-08-29_11-07-17/@ | ondemand | Before restoring '2024-08-29 11:06:37'        |\n",
      "Found 8 snapshot(s)\n",
      "Unmount /tmp/grub-btrfs.Qz9fAGZWoE .. Success\n",
      "Found memtest86+ image: /boot/memtest86+/memtest.bin\n",
      "/usr/bin/grub-probe: warning: unknown device type nvme0n1.\n",
      "Found memtest86+ EFI image: /boot/memtest86+/memtest.efi\n",
      "/usr/bin/grub-probe: warning: unknown device type nvme0n1.\n",
      "done\n",
      "(2/4) etckeeper: pre-transaction commit\n",
      "(3/4) Performing snapper pre snapshots for the following configurations...\n",
      "(4/4) Update pacman-ps data (package removal & upgrade)\n",
      "\u001b[1;34m::\u001b[0;1m Processing package changes...\n",
      "(1/9) reinstalling cuda                            [----------------------] 100%c\u001b[m]  99% \u001b[m]  95% \u001b[m]  90%\u001b[m\u001b[0;37m \u001b[m]  80% \u001b[m]  74% \u001b[m]  69%\u001b[m\u001b[0;37m \u001b[m]  61%\u001b[m\u001b[0;37m \u001b[m]  53%\u001b[m\u001b[0;37m \u001b[m]  45% \u001b[m]  37% \u001b[m]  34%\u001b[m\u001b[0;37m \u001b[m]  23%[m\u001b[0;37m \u001b[m\u001b[0;37m \u001b[m]  13%\u001b[m\u001b[0;37m \u001b[m]   4%  0%\n",
      "- When you uninstall an old, unrequired version of GCC that was previously\n",
      "  required by cuda for the default host compiler ($NVCC_CCBIN), you may need\n",
      "  to source /etc/profile or restart your session.  Additionally, you may need\n",
      "  to clear the build cache of your projects where the old path may be still\n",
      "  recorded.\n",
      "(2/9) reinstalling libpng                          [----------------------] 100%m \u001b[m\u001b[0;37m \u001b[m\u001b[0;37mo\u001b[m\u001b[0;37m \u001b[m\u001b[0;37m \u001b[m\u001b[0;37mo\u001b[m\u001b[0;37m \u001b[m\u001b[0;37m \u001b[m\u001b[0;37mo\u001b[m\u001b[0;37m \u001b[m\u001b[0;37m \u001b[m\u001b[0;37mo\u001b[m\u001b[0;37m \u001b[m\u001b[0;37m \u001b[m\u001b[0;37mo\u001b[m\u001b[0;37m \u001b[m\u001b[0;37m \u001b[m\u001b[0;37mo\u001b[m\u001b[0;37m \u001b[m\u001b[0;37m \u001b[m]   0%\n",
      "(3/9) reinstalling sdl2                            [----------------------] 100%m \u001b[m\u001b[0;37m \u001b[m\u001b[0;37mo\u001b[m\u001b[0;37m \u001b[m\u001b[0;37m \u001b[m\u001b[0;37mo\u001b[m\u001b[0;37m \u001b[m\u001b[0;37m \u001b[m\u001b[0;37mo\u001b[m\u001b[0;37m \u001b[m\u001b[0;37m \u001b[m\u001b[0;37mo\u001b[m\u001b[0;37m \u001b[m\u001b[0;37m \u001b[m\u001b[0;37mo\u001b[m\u001b[0;37m \u001b[m\u001b[0;37m \u001b[m\u001b[0;37mo\u001b[m\u001b[0;37m \u001b[m\u001b[0;37m \u001b[m]   0%\n",
      "(4/9) reinstalling libjpeg-turbo                   [----------------------] 100%m \u001b[m\u001b[0;37m \u001b[m\u001b[0;37mo\u001b[m\u001b[0;37m \u001b[m\u001b[0;37m \u001b[m\u001b[0;37mo\u001b[m\u001b[0;37m \u001b[m\u001b[0;37m \u001b[m\u001b[0;37mo\u001b[m\u001b[0;37m \u001b[m\u001b[0;37m \u001b[m\u001b[0;37mo\u001b[m\u001b[0;37m \u001b[m\u001b[0;37m \u001b[m\u001b[0;37mo\u001b[m\u001b[0;37m \u001b[m\u001b[0;37m \u001b[m\u001b[0;37mo\u001b[m\u001b[0;37m \u001b[m\u001b[0;37m \u001b[m]   0%\n",
      "(5/9) reinstalling libtiff                         [----------------------] 100%m \u001b[m\u001b[0;37m \u001b[m\u001b[0;37mo\u001b[m\u001b[0;37m \u001b[m\u001b[0;37m \u001b[m\u001b[0;37mo\u001b[m\u001b[0;37m \u001b[m\u001b[0;37m \u001b[m\u001b[0;37mo\u001b[m\u001b[0;37m \u001b[m\u001b[0;37m \u001b[m\u001b[0;37mo\u001b[m\u001b[0;37m \u001b[m\u001b[0;37m \u001b[m\u001b[0;37mo\u001b[m\u001b[0;37m \u001b[m\u001b[0;37m \u001b[m\u001b[0;37mo\u001b[m\u001b[0;37m \u001b[m\u001b[0;37m \u001b[m]   0%\n",
      "(6/9) reinstalling sdl2_image                      [----------------------] 100%m \u001b[m\u001b[0;37m \u001b[m\u001b[0;37mo\u001b[m\u001b[0;37m \u001b[m\u001b[0;37m \u001b[m\u001b[0;37mo\u001b[m\u001b[0;37m \u001b[m\u001b[0;37m \u001b[m\u001b[0;37mo\u001b[m\u001b[0;37m \u001b[m\u001b[0;37m \u001b[m\u001b[0;37mo\u001b[m\u001b[0;37m \u001b[m\u001b[0;37m \u001b[m\u001b[0;37mo\u001b[m\u001b[0;37m \u001b[m\u001b[0;37m \u001b[m\u001b[0;37mo\u001b[m\u001b[0;37m \u001b[m\u001b[0;37m \u001b[m]   0%\n",
      "(7/9) reinstalling alsa-lib                        [----------------------] 100%m \u001b[m\u001b[0;37m \u001b[m\u001b[0;37mo\u001b[m\u001b[0;37m \u001b[m\u001b[0;37m \u001b[m\u001b[0;37mo\u001b[m\u001b[0;37m \u001b[m\u001b[0;37m \u001b[m\u001b[0;37mo\u001b[m\u001b[0;37m \u001b[m\u001b[0;37m \u001b[m\u001b[0;37mo\u001b[m\u001b[0;37m \u001b[m\u001b[0;37m \u001b[m\u001b[0;37mo\u001b[m\u001b[0;37m \u001b[m\u001b[0;37m \u001b[m\u001b[0;37mo\u001b[m\u001b[0;37m \u001b[m\u001b[0;37m \u001b[m]   0%\n",
      "(8/9) reinstalling sdl2_mixer                      [----------------------] 100%m \u001b[m\u001b[0;37m \u001b[m\u001b[0;37mo\u001b[m\u001b[0;37m \u001b[m\u001b[0;37m \u001b[m\u001b[0;37mo\u001b[m\u001b[0;37m \u001b[m\u001b[0;37m \u001b[m\u001b[0;37mo\u001b[m\u001b[0;37m \u001b[m\u001b[0;37m \u001b[m\u001b[0;37mo\u001b[m\u001b[0;37m \u001b[m\u001b[0;37m \u001b[m\u001b[0;37mo\u001b[m\u001b[0;37m \u001b[m\u001b[0;37m \u001b[m\u001b[0;37mo\u001b[m\u001b[0;37m \u001b[m\u001b[0;37m \u001b[m]   0%\n",
      "(9/9) reinstalling sdl2_ttf                        [----------------------] 100%m \u001b[m\u001b[0;37m \u001b[m\u001b[0;37mo\u001b[m\u001b[0;37m \u001b[m\u001b[0;37m \u001b[m\u001b[0;37mo\u001b[m\u001b[0;37m \u001b[m\u001b[0;37m \u001b[m\u001b[0;37mo\u001b[m\u001b[0;37m \u001b[m\u001b[0;37m \u001b[m\u001b[0;37mo\u001b[m\u001b[0;37m \u001b[m\u001b[0;37m \u001b[m\u001b[0;37mo\u001b[m\u001b[0;37m \u001b[m\u001b[0;37m \u001b[m\u001b[0;37mo\u001b[m\u001b[0;37m \u001b[m\u001b[0;37m \u001b[m]   0%\n",
      "\u001b[1;34m::\u001b[0;1m Running post-transaction hooks...\n",
      "\u001b[0m( 1/13) Arming ConditionNeedsUpdate...\n",
      "( 2/13) Refreshing PackageKit...\n",
      "( 3/13) Aborting pending pacman offline system-update...\n",
      "( 4/13) Notifying arch-audit-gtk\n",
      "( 5/13) Fixing .desktop files...\n",
      "( 6/13) Removing old packages from pacman cache...\n",
      "Removing old installed packages...\n",
      "==> no candidate packages found for pruning\n",
      "Removing old uninstalled packages...\n",
      "==> no candidate packages found for pruning\n",
      "( 7/13) Update pacman-ps data (package update & install)\n",
      "( 8/13) panetrie.hook\n",
      "\u001b[32m==> \u001b[33m\u001b[1m[Panetrie]\u001b[m Refreshing package lists...\n",
      "( 9/13) Updating pkgfile database\n",
      "(10/13) Updating ccache links...\n",
      "(11/13) Removing old packages from yay cache...\n",
      "Removing old installed AUR packages...\n",
      "==> no candidate packages found for pruning\n",
      "Removing old uninstalled AUR packages...\n",
      "==> no candidate packages found for pruning\n",
      "(12/13) etckeeper: post-transaction commit\n",
      "(13/13) Performing snapper post snapshots for the following configurations...\n",
      "\u001b[?25h"
     ]
    }
   ],
   "source": [
    "# Cell 1: Update System and CUDA Setup\n",
    "# Update system and CUDA setup.\n",
    "!sudo pacman -Syu cuda libpng sdl2 sdl2_image sdl2_mixer sdl2_ttf libjpeg libtiff alsa-lib --noconfirm"
   ]
  },
  {
   "cell_type": "code",
   "execution_count": null,
   "id": "f4f17a23",
   "metadata": {},
   "outputs": [],
   "source": [
    "# Check our cuda setup\n",
    "!nvidia-smi"
   ]
  },
  {
   "cell_type": "code",
   "execution_count": null,
   "id": "7a528cc3",
   "metadata": {},
   "outputs": [],
   "source": [
    "# Cell 2: Install Required Packages\n",
    "# Install necessary packages\n",
    "!pip install --no-binary :all: pygame --break-system-packages\n",
    "!pip show pygame\n",
    "!pip install tensorrt numpy -U --index-url https://download.pytorch.org/whl/cu124 --break-system-packages"
   ]
  },
  {
   "cell_type": "code",
   "execution_count": null,
   "id": "d5ed2efe",
   "metadata": {},
   "outputs": [],
   "source": [
    "# Cell 3: Import Libraries\n",
    "import math\n",
    "import random\n",
    "from typing import List, Tuple\n",
    "import pygame\n",
    "from pygame import mixer\n",
    "\n",
    "import os\n",
    "os.environ[\"SDL_VIDEODRIVER\"] = \"x11\""
   ]
  },
  {
   "cell_type": "code",
   "execution_count": null,
   "id": "09a91b2c",
   "metadata": {
    "lines_to_next_cell": 2
   },
   "outputs": [],
   "source": [
    "# Cell 4: Initialize Pygame\n",
    "# Initialize pygame\n",
    "if not pygame.get_init():\n",
    "    pygame.init()\n",
    "    print(\"Current SDL video driver:\", pygame.display.get_driver())"
   ]
  },
  {
   "cell_type": "code",
   "execution_count": null,
   "id": "c4d3ba0f",
   "metadata": {
    "lines_to_next_cell": 2
   },
   "outputs": [],
   "source": [
    "# Cell 5 Create screen\n",
    "if 'screen' not in globals():\n",
    "    screen = pygame.display.set_mode((800, 600))\n",
    "    pygame.event.pump()  # Ensure that Pygame processes events after creating the screen"
   ]
  },
  {
   "cell_type": "code",
   "execution_count": null,
   "id": "a429190a",
   "metadata": {
    "lines_to_next_cell": 2
   },
   "outputs": [],
   "source": [
    "# Cell 6: Load Assets\n",
    "# Background\n",
    "if 'background' not in globals():\n",
    "    background = pygame.image.load('background.png')"
   ]
  },
  {
   "cell_type": "code",
   "execution_count": null,
   "id": "c07e6609",
   "metadata": {},
   "outputs": [],
   "source": [
    "# Sound\n",
    "mixer.music.load(\"background.wav\")\n",
    "mixer.music.play(-1)"
   ]
  },
  {
   "cell_type": "code",
   "execution_count": null,
   "id": "440fd13c",
   "metadata": {},
   "outputs": [],
   "source": [
    "# Caption and Icon\n",
    "pygame.display.set_caption(\"Space Invader\")\n",
    "icon = pygame.image.load('ufo.png')\n",
    "pygame.display.set_icon(icon)"
   ]
  },
  {
   "cell_type": "code",
   "execution_count": null,
   "id": "ae94293c",
   "metadata": {},
   "outputs": [],
   "source": [
    "# Cell 7: Load Player\n",
    "# Player setup\n",
    "if 'playerImg' not in globals():\n",
    "    playerImg = pygame.image.load('player.png')\n",
    "    playerX = 370\n",
    "    playerY = 480\n",
    "    playerX_change = 0"
   ]
  },
  {
   "cell_type": "code",
   "execution_count": null,
   "id": "fb24ea32",
   "metadata": {},
   "outputs": [],
   "source": [
    "# Cell 8: Load Enemies\n",
    "# Enemy setup\n",
    "if not enemyImg:\n",
    "    num_of_enemies = 6\n",
    "    for i in range(num_of_enemies):\n",
    "        enemyImg.append(pygame.image.load('enemy.png'))\n",
    "        enemyX.append(random.randint(0, 736))\n",
    "        enemyY.append(random.randint(50, 150))\n",
    "        enemyX_change.append(4)\n",
    "        enemyY_change.append(40)\n",
    "# Cell 9: Bullet Setup\n",
    "# Bullet setup\n",
    "bulletImg = pygame.image.load('bullet.png')\n",
    "bulletX = 0\n",
    "bulletY = 480\n",
    "bulletX_change = 0\n",
    "bulletY_change = 10\n",
    "bullet_state = \"ready\""
   ]
  },
  {
   "cell_type": "code",
   "execution_count": null,
   "id": "1b017a6c",
   "metadata": {},
   "outputs": [],
   "source": [
    "# Cell 10: Score Setup\n",
    "# Score setup\n",
    "score_value = 0\n",
    "font = pygame.font.Font('freesansbold.ttf', 32)"
   ]
  },
  {
   "cell_type": "code",
   "execution_count": null,
   "id": "57bcf0bc",
   "metadata": {},
   "outputs": [],
   "source": [
    "textX = 10\n",
    "testY = 10"
   ]
  },
  {
   "cell_type": "code",
   "execution_count": null,
   "id": "ffa21f93",
   "metadata": {
    "lines_to_next_cell": 1
   },
   "outputs": [],
   "source": [
    "# Game Over setup\n",
    "over_font = pygame.font.Font('freesansbold.ttf', 64)"
   ]
  },
  {
   "cell_type": "code",
   "execution_count": null,
   "id": "d29f4e2f",
   "metadata": {
    "lines_to_next_cell": 1
   },
   "outputs": [],
   "source": [
    "# Cell 11: Functions\n",
    "# Define necessary functions\n",
    "def show_score(x, y):\n",
    "    score = font.render(\"Score : \" + str(score_value), True, (255, 255, 255))\n",
    "    screen.blit(score, (x, y))"
   ]
  },
  {
   "cell_type": "code",
   "execution_count": null,
   "id": "a2b0d414",
   "metadata": {
    "lines_to_next_cell": 1
   },
   "outputs": [],
   "source": [
    "def game_over_text():\n",
    "    over_text = over_font.render(\"GAME OVER\", True, (255, 255, 255))\n",
    "    screen.blit(over_text, (200, 250))"
   ]
  },
  {
   "cell_type": "code",
   "execution_count": null,
   "id": "34e10a2b",
   "metadata": {
    "lines_to_next_cell": 1
   },
   "outputs": [],
   "source": [
    "def player(x, y):\n",
    "    screen.blit(playerImg, (x, y))"
   ]
  },
  {
   "cell_type": "code",
   "execution_count": null,
   "id": "d40d51ac",
   "metadata": {
    "lines_to_next_cell": 1
   },
   "outputs": [],
   "source": [
    "def enemy(x, y, i):\n",
    "    screen.blit(enemyImg[i], (x, y))"
   ]
  },
  {
   "cell_type": "code",
   "execution_count": null,
   "id": "7445afef",
   "metadata": {
    "lines_to_next_cell": 1
   },
   "outputs": [],
   "source": [
    "def fire_bullet(x, y):\n",
    "    global bullet_state\n",
    "    bullet_state = \"fire\"\n",
    "    screen.blit(bulletImg, (x + 16, y + 10))"
   ]
  },
  {
   "cell_type": "code",
   "execution_count": null,
   "id": "c45a336f",
   "metadata": {
    "lines_to_next_cell": 1
   },
   "outputs": [],
   "source": [
    "def isCollision(enemyX, enemyY, bulletX, bulletY):\n",
    "    distance = math.sqrt(math.pow(enemyX - bulletX, 2) + (math.pow(enemyY - bulletY, 2)))\n",
    "    if distance < 27:\n",
    "        return True\n",
    "    else:\n",
    "        return False"
   ]
  },
  {
   "cell_type": "code",
   "execution_count": null,
   "id": "c2b3fcee",
   "metadata": {
    "lines_to_next_cell": 2
   },
   "outputs": [],
   "source": [
    "# Cell 12: Main Game Loop\n",
    "# Game Loop\n",
    "running = True\n",
    "while running:\n",
    "    # RGB = Red, Green, Blue\n",
    "    screen.fill((0, 0, 0))\n",
    "    # Background Image\n",
    "    screen.blit(background, (0, 0))\n",
    "    \n",
    "    for event in pygame.event.get():\n",
    "        if event.type == pygame.QUIT:\n",
    "            running = False\n",
    "\n",
    "        # If keystroke is pressed check whether it's right or left\n",
    "        if event.type == pygame.KEYDOWN:\n",
    "            if event.key == pygame.K_LEFT:\n",
    "                playerX_change = -5\n",
    "            if event.key == pygame.K_RIGHT:\n",
    "                playerX_change = 5\n",
    "            if event.key == pygame.K_SPACE:\n",
    "                if bullet_state == \"ready\":\n",
    "                    bulletSound = mixer.Sound(\"laser.wav\")\n",
    "                    bulletSound.play()\n",
    "                    # Get the current x coordinate of the spaceship\n",
    "                    bulletX = playerX\n",
    "                    fire_bullet(bulletX, bulletY)\n",
    "\n",
    "        if event.type == pygame.KEYUP:\n",
    "            if event.key == pygame.K_LEFT or event.key == pygame.K_RIGHT:\n",
    "                playerX_change = 0\n",
    "\n",
    "    # Player Movement\n",
    "    playerX += playerX_change\n",
    "    if playerX <= 0:\n",
    "        playerX = 0\n",
    "    elif playerX >= 736:\n",
    "        playerX = 736\n",
    "\n",
    "    # Enemy Movement\n",
    "    for i in range(num_of_enemies):\n",
    "\n",
    "        # Game Over\n",
    "        if enemyY[i] > 440:\n",
    "            for j in range(num_of_enemies):\n",
    "                enemyY[j] = 2000\n",
    "            game_over_text()\n",
    "            break\n",
    "\n",
    "        enemyX[i] += enemyX_change[i]\n",
    "        if enemyX[i] <= 0:\n",
    "            enemyX_change[i] = 4\n",
    "            enemyY[i] += enemyY_change[i]\n",
    "        elif enemyX[i] >= 736:\n",
    "            enemyX_change[i] = -4\n",
    "            enemyY[i] += enemyY_change[i]\n",
    "\n",
    "        # Collision\n",
    "        collision = isCollision(enemyX[i], enemyY[i], bulletX, bulletY)\n",
    "        if collision:\n",
    "            explosionSound = mixer.Sound(\"explosion.wav\")\n",
    "            explosionSound.play()\n",
    "            bulletY = 480\n",
    "            bullet_state = \"ready\"\n",
    "            score_value += 1\n",
    "            enemyX[i] = random.randint(0, 736)\n",
    "            enemyY[i] = random.randint(50, 150)\n",
    "\n",
    "        enemy(enemyX[i], enemyY[i], i)\n",
    "\n",
    "    # Bullet Movement\n",
    "    if bulletY <= 0:\n",
    "        bulletY = 480\n",
    "        bullet_state = \"ready\"\n",
    "\n",
    "    if bullet_state == \"fire\":\n",
    "        fire_bullet(bulletX, bulletY)\n",
    "        bulletY -= bulletY_change\n",
    "\n",
    "    player(playerX, playerY)\n",
    "    show_score(textX, testY)\n",
    "    pygame.display.update()"
   ]
  }
 ],
 "metadata": {
  "jupytext": {
   "cell_metadata_filter": "-all",
   "main_language": "python",
   "notebook_metadata_filter": "-all"
  },
  "kernelspec": {
   "display_name": "Python 3 (ipykernel)",
   "language": "python",
   "name": "python3"
  },
  "language_info": {
   "codemirror_mode": {
    "name": "ipython",
    "version": 3
   },
   "file_extension": ".py",
   "mimetype": "text/x-python",
   "name": "python",
   "nbconvert_exporter": "python",
   "pygments_lexer": "ipython3",
   "version": "3.12.7"
  }
 },
 "nbformat": 4,
 "nbformat_minor": 5
}
