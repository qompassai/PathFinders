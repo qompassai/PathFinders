{
 "cells": [
  {
   "cell_type": "code",
   "execution_count": null,
   "id": "1136fbc8-f4d7-462e-b9a1-90a94347234e",
   "metadata": {},
   "outputs": [],
   "source": [
    "!sudo pacman -Syu --noconfirm"
   ]
  },
  {
   "cell_type": "code",
   "execution_count": null,
   "id": "971afb33-69e5-4992-9c6e-69b742a541e8",
   "metadata": {},
   "outputs": [],
   "source": [
    "# Check our cuda setup\n",
    "!nvidia-smi"
   ]
  },
  {
   "cell_type": "code",
   "execution_count": 3,
   "id": "7dbb681e-9af3-452c-8010-95cd0cd69e38",
   "metadata": {
    "execution": {
     "iopub.execute_input": "2024-10-30T20:04:06.539024Z",
     "iopub.status.busy": "2024-10-30T20:04:06.538621Z",
     "iopub.status.idle": "2024-10-30T20:04:13.419358Z",
     "shell.execute_reply": "2024-10-30T20:04:13.417940Z",
     "shell.execute_reply.started": "2024-10-30T20:04:06.538983Z"
    }
   },
   "outputs": [
    {
     "name": "stdout",
     "output_type": "stream",
     "text": [
      "Defaulting to user installation because normal site-packages is not writeable\n",
      "\u001b[33mWARNING: Ignoring invalid distribution ~vidia-cublas-cu12 (/home/phaedrus/.local/lib/python3.12/site-packages)\u001b[0m\u001b[33m\n",
      "\u001b[0mLooking in indexes: https://pypi.org/simple, https://pypi.ngc.nvidia.com, https://download.pytorch.org/whl/cu124, https://pypi.nvidia.com, https://developer.download.nvidia.com/compute/redist\n",
      "Requirement already satisfied: pygame in /home/phaedrus/.local/lib/python3.12/site-packages (2.6.1)\n",
      "\u001b[33mWARNING: Ignoring invalid distribution ~vidia-cublas-cu12 (/home/phaedrus/.local/lib/python3.12/site-packages)\u001b[0m\u001b[33m\n",
      "\u001b[0m\u001b[33mWARNING: Ignoring invalid distribution ~vidia-cublas-cu12 (/home/phaedrus/.local/lib/python3.12/site-packages)\u001b[0m\u001b[33m\n",
      "\u001b[0m\u001b[33mWARNING: Ignoring invalid distribution ~vidia-cublas-cu12 (/home/phaedrus/.local/lib/python3.12/site-packages)\u001b[0m\u001b[33m\n",
      "\u001b[0m\u001b[33mWARNING: Ignoring invalid distribution ~vidia-cublas-cu12 (/home/phaedrus/.local/lib/python3.12/site-packages)\u001b[0m\u001b[33m\n",
      "\u001b[0m\u001b[33mWARNING: Ignoring invalid distribution ~vidia-cublas-cu12 (/home/phaedrus/.local/lib/python3.12/site-packages)\u001b[0m\u001b[33m\n",
      "\u001b[0mName: pygame\n",
      "Version: 2.6.1\n",
      "Summary: Python Game Development\n",
      "Home-page: https://www.pygame.org\n",
      "Author: A community project.\n",
      "Author-email: pygame@pygame.org\n",
      "License: LGPL\n",
      "Location: /home/phaedrus/.local/lib/python3.12/site-packages\n",
      "Requires: \n",
      "Required-by: pygame-menu, pygame-widgets, ynot3\n"
     ]
    }
   ],
   "source": [
    "!pip install pygame --break-system-packages\n",
    "!pip show pygame"
   ]
  },
  {
   "cell_type": "code",
   "execution_count": null,
   "id": "9ecea0e6-ae85-46c4-9b43-41b7f844d4d7",
   "metadata": {},
   "outputs": [],
   "source": [
    "!pip install tensorrt -U --index-url https://download.pytorch.org/whl/cu124 --break-system-packages"
   ]
  },
  {
   "cell_type": "code",
   "execution_count": 4,
   "id": "165c7252",
   "metadata": {
    "execution": {
     "iopub.execute_input": "2024-10-30T20:05:46.933303Z",
     "iopub.status.busy": "2024-10-30T20:05:46.932976Z",
     "iopub.status.idle": "2024-10-30T20:05:46.939822Z",
     "shell.execute_reply": "2024-10-30T20:05:46.937025Z",
     "shell.execute_reply.started": "2024-10-30T20:05:46.933279Z"
    }
   },
   "outputs": [],
   "source": [
    "import math\n",
    "import random\n",
    "from typing import List, Tuple"
   ]
  },
  {
   "cell_type": "code",
   "execution_count": 5,
   "id": "b893d244",
   "metadata": {
    "execution": {
     "iopub.execute_input": "2024-10-30T20:05:49.250828Z",
     "iopub.status.busy": "2024-10-30T20:05:49.250312Z",
     "iopub.status.idle": "2024-10-30T20:05:49.792480Z",
     "shell.execute_reply": "2024-10-30T20:05:49.791969Z",
     "shell.execute_reply.started": "2024-10-30T20:05:49.250787Z"
    }
   },
   "outputs": [
    {
     "name": "stdout",
     "output_type": "stream",
     "text": [
      "pygame 2.6.1 (SDL 2.28.4, Python 3.12.7)\n",
      "Hello from the pygame community. https://www.pygame.org/contribute.html\n"
     ]
    }
   ],
   "source": [
    "import pygame\n",
    "from pygame import mixer"
   ]
  },
  {
   "cell_type": "code",
   "execution_count": 6,
   "id": "020a71a5",
   "metadata": {
    "execution": {
     "iopub.execute_input": "2024-10-30T20:05:52.849516Z",
     "iopub.status.busy": "2024-10-30T20:05:52.849116Z",
     "iopub.status.idle": "2024-10-30T20:05:52.886137Z",
     "shell.execute_reply": "2024-10-30T20:05:52.885605Z",
     "shell.execute_reply.started": "2024-10-30T20:05:52.849490Z"
    }
   },
   "outputs": [
    {
     "data": {
      "text/plain": [
       "(5, 0)"
      ]
     },
     "execution_count": 6,
     "metadata": {},
     "output_type": "execute_result"
    }
   ],
   "source": [
    "# Intialize the pygame\n",
    "pygame.init()"
   ]
  },
  {
   "cell_type": "code",
   "execution_count": 1,
   "id": "56a99310",
   "metadata": {
    "execution": {
     "iopub.execute_input": "2024-10-30T20:06:12.133893Z",
     "iopub.status.busy": "2024-10-30T20:06:12.133638Z",
     "iopub.status.idle": "2024-10-30T20:06:12.223992Z",
     "shell.execute_reply": "2024-10-30T20:06:12.223503Z",
     "shell.execute_reply.started": "2024-10-30T20:06:12.133878Z"
    }
   },
   "outputs": [
    {
     "ename": "NameError",
     "evalue": "name 'pygame' is not defined",
     "output_type": "error",
     "traceback": [
      "\u001b[0;31m---------------------------------------------------------------------------\u001b[0m",
      "\u001b[0;31mNameError\u001b[0m                                 Traceback (most recent call last)",
      "Cell \u001b[0;32mIn[1], line 2\u001b[0m\n\u001b[1;32m      1\u001b[0m \u001b[38;5;66;03m# create the screen\u001b[39;00m\n\u001b[0;32m----> 2\u001b[0m screen \u001b[38;5;241m=\u001b[39m \u001b[43mpygame\u001b[49m\u001b[38;5;241m.\u001b[39mdisplay\u001b[38;5;241m.\u001b[39mset_mode((\u001b[38;5;241m800\u001b[39m, \u001b[38;5;241m600\u001b[39m))\n",
      "\u001b[0;31mNameError\u001b[0m: name 'pygame' is not defined"
     ]
    }
   ],
   "source": [
    "# create the screen\n",
    "screen = pygame.display.set_mode((800, 600))"
   ]
  },
  {
   "cell_type": "code",
   "execution_count": null,
   "id": "3a666dad",
   "metadata": {},
   "outputs": [],
   "source": [
    "# Background\n",
    "background = pygame.image.load('background.png')"
   ]
  },
  {
   "cell_type": "code",
   "execution_count": null,
   "id": "5988b462",
   "metadata": {},
   "outputs": [],
   "source": [
    "# Sound\n",
    "mixer.music.load(\"background.wav\")\n",
    "mixer.music.play(-1)"
   ]
  },
  {
   "cell_type": "code",
   "execution_count": null,
   "id": "92b795ec",
   "metadata": {},
   "outputs": [],
   "source": [
    "# Caption and Icon\n",
    "pygame.display.set_caption(\"Space Invader\")\n",
    "icon = pygame.image.load('ufo.png')\n",
    "pygame.display.set_icon(icon)"
   ]
  },
  {
   "cell_type": "code",
   "execution_count": null,
   "id": "f1e0f8d4",
   "metadata": {},
   "outputs": [],
   "source": [
    "# Player\n",
    "playerImg = pygame.image.load('player.png')\n",
    "playerX = 370\n",
    "playerY = 480\n",
    "playerX_change = 0"
   ]
  },
  {
   "cell_type": "code",
   "execution_count": null,
   "id": "9353f422",
   "metadata": {},
   "outputs": [],
   "source": [
    "# Enemy\n",
    "enemyImg = []\n",
    "enemyX = []\n",
    "enemyY = []\n",
    "enemyX_change = []\n",
    "enemyY_change = []\n",
    "num_of_enemies = 6"
   ]
  },
  {
   "cell_type": "code",
   "execution_count": null,
   "id": "1bc381bc",
   "metadata": {},
   "outputs": [],
   "source": [
    "for i in range(num_of_enemies):\n",
    "    enemyImg.append(pygame.image.load('enemy.png'))\n",
    "    enemyX.append(random.randint(0, 736))\n",
    "    enemyY.append(random.randint(50, 150))\n",
    "    enemyX_change.append(4)\n",
    "    enemyY_change.append(40)"
   ]
  },
  {
   "cell_type": "markdown",
   "id": "d9726aab",
   "metadata": {},
   "source": [
    "Bullet"
   ]
  },
  {
   "cell_type": "markdown",
   "id": "e694da7d",
   "metadata": {},
   "source": [
    "Ready - You can't see the bullet on the screen\n",
    "Fire - The bullet is currently moving"
   ]
  },
  {
   "cell_type": "code",
   "execution_count": null,
   "id": "5a7737b8",
   "metadata": {},
   "outputs": [],
   "source": [
    "bulletImg = pygame.image.load('bullet.png')\n",
    "bulletX = 0\n",
    "bulletY = 480\n",
    "bulletX_change = 0\n",
    "bulletY_change = 10\n",
    "bullet_state = \"ready\""
   ]
  },
  {
   "cell_type": "markdown",
   "id": "b6cccc1c",
   "metadata": {},
   "source": [
    "Score"
   ]
  },
  {
   "cell_type": "code",
   "execution_count": null,
   "id": "fe2fc142",
   "metadata": {},
   "outputs": [],
   "source": [
    "score_value = 0\n",
    "font = pygame.font.Font('freesansbold.ttf', 32)"
   ]
  },
  {
   "cell_type": "code",
   "execution_count": null,
   "id": "1caf5417",
   "metadata": {},
   "outputs": [],
   "source": [
    "textX = 10\n",
    "testY = 10"
   ]
  },
  {
   "cell_type": "code",
   "execution_count": null,
   "id": "a676501a",
   "metadata": {},
   "outputs": [],
   "source": [
    "# Game Over\n",
    "over_font = pygame.font.Font('freesansbold.ttf', 64)"
   ]
  },
  {
   "cell_type": "code",
   "execution_count": null,
   "id": "d9bb9cee",
   "metadata": {},
   "outputs": [],
   "source": [
    "def show_score(x, y):\n",
    "    score = font.render(\"Score : \" + str(score_value), True, (255, 255, 255))\n",
    "    screen.blit(score, (x, y))"
   ]
  },
  {
   "cell_type": "code",
   "execution_count": null,
   "id": "9d8a7712",
   "metadata": {},
   "outputs": [],
   "source": [
    "def game_over_text():\n",
    "    over_text = over_font.render(\"GAME OVER\", True, (255, 255, 255))\n",
    "    screen.blit(over_text, (200, 250))"
   ]
  },
  {
   "cell_type": "code",
   "execution_count": null,
   "id": "1ab3ec76",
   "metadata": {},
   "outputs": [],
   "source": [
    "def player(x, y):\n",
    "    screen.blit(playerImg, (x, y))"
   ]
  },
  {
   "cell_type": "code",
   "execution_count": null,
   "id": "b118b58f",
   "metadata": {},
   "outputs": [],
   "source": [
    "def enemy(x, y, i):\n",
    "    screen.blit(enemyImg[i], (x, y))"
   ]
  },
  {
   "cell_type": "code",
   "execution_count": null,
   "id": "5f51d3ff",
   "metadata": {},
   "outputs": [],
   "source": [
    "def fire_bullet(x, y):\n",
    "    global bullet_state\n",
    "    bullet_state = \"fire\"\n",
    "    screen.blit(bulletImg, (x + 16, y + 10))"
   ]
  },
  {
   "cell_type": "code",
   "execution_count": null,
   "id": "a0e917c2",
   "metadata": {},
   "outputs": [],
   "source": [
    "def isCollision(enemyX, enemyY, bulletX, bulletY):\n",
    "    distance = math.sqrt(math.pow(enemyX - bulletX, 2) + (math.pow(enemyY - bulletY, 2)))\n",
    "    if distance < 27:\n",
    "        return True\n",
    "    else:\n",
    "        return False"
   ]
  },
  {
   "cell_type": "code",
   "execution_count": null,
   "id": "0f61a705",
   "metadata": {},
   "outputs": [],
   "source": [
    "# Game Loop\n",
    "running = True\n",
    "while running:\n",
    "\n",
    "    # RGB = Red, Green, Blue\n",
    "    screen.fill((0, 0, 0))\n",
    "    # Background Image\n",
    "    screen.blit(background, (0, 0))\n",
    "    for event in pygame.event.get():\n",
    "        if event.type == pygame.QUIT:\n",
    "            running = False\n",
    "\n",
    "        # if keystroke is pressed check whether its right or left\n",
    "        if event.type == pygame.KEYDOWN:\n",
    "            if event.key == pygame.K_LEFT:\n",
    "                playerX_change = -5\n",
    "            if event.key == pygame.K_RIGHT:\n",
    "                playerX_change = 5\n",
    "            if event.key == pygame.K_SPACE:\n",
    "                if bullet_state is \"ready\":\n",
    "                    bulletSound = mixer.Sound(\"laser.wav\")\n",
    "                    bulletSound.play()\n",
    "                    # Get the current x cordinate of the spaceship\n",
    "                    bulletX = playerX\n",
    "                    fire_bullet(bulletX, bulletY)\n",
    "\n",
    "        if event.type == pygame.KEYUP:\n",
    "            if event.key == pygame.K_LEFT or event.key == pygame.K_RIGHT:\n",
    "                playerX_change = 0\n",
    "\n",
    "    # 5 = 5 + -0.1 -> 5 = 5 - 0.1\n",
    "    # 5 = 5 + 0.1\n",
    "\n",
    "    playerX += playerX_change\n",
    "    if playerX <= 0:\n",
    "        playerX = 0\n",
    "    elif playerX >= 736:\n",
    "        playerX = 736\n",
    "\n",
    "    # Enemy Movement\n",
    "    for i in range(num_of_enemies):\n",
    "\n",
    "        # Game Over\n",
    "        if enemyY[i] > 440:\n",
    "            for j in range(num_of_enemies):\n",
    "                enemyY[j] = 2000\n",
    "            game_over_text()\n",
    "            break\n",
    "\n",
    "        enemyX[i] += enemyX_change[i]\n",
    "        if enemyX[i] <= 0:\n",
    "            enemyX_change[i] = 4\n",
    "            enemyY[i] += enemyY_change[i]\n",
    "        elif enemyX[i] >= 736:\n",
    "            enemyX_change[i] = -4\n",
    "            enemyY[i] += enemyY_change[i]\n",
    "\n",
    "        # Collision\n",
    "        collision = isCollision(enemyX[i], enemyY[i], bulletX, bulletY)\n",
    "        if collision:\n",
    "            explosionSound = mixer.Sound(\"explosion.wav\")\n",
    "            explosionSound.play()\n",
    "            bulletY = 480\n",
    "            bullet_state = \"ready\"\n",
    "            score_value += 1\n",
    "            enemyX[i] = random.randint(0, 736)\n",
    "            enemyY[i] = random.randint(50, 150)\n",
    "\n",
    "        enemy(enemyX[i], enemyY[i], i)\n",
    "\n",
    "    # Bullet Movement\n",
    "    if bulletY <= 0:\n",
    "        bulletY = 480\n",
    "        bullet_state = \"ready\"\n",
    "\n",
    "    if bullet_state is \"fire\":\n",
    "        fire_bullet(bulletX, bulletY)\n",
    "        bulletY -= bulletY_change\n",
    "\n",
    "    player(playerX, playerY)\n",
    "    show_score(textX, testY)\n",
    "    pygame.display.update()"
   ]
  }
 ],
 "metadata": {
  "jupytext": {
   "cell_metadata_filter": "-all",
   "main_language": "python",
   "notebook_metadata_filter": "-all"
  },
  "kernelspec": {
   "display_name": "Python 3 (ipykernel)",
   "language": "python",
   "name": "python3"
  },
  "language_info": {
   "codemirror_mode": {
    "name": "ipython",
    "version": 3
   },
   "file_extension": ".py",
   "mimetype": "text/x-python",
   "name": "python",
   "nbconvert_exporter": "python",
   "pygments_lexer": "ipython3",
   "version": "3.12.7"
  }
 },
 "nbformat": 4,
 "nbformat_minor": 5
}
