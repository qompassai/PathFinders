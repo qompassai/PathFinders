{
 "cells": [
  {
   "cell_type": "code",
   "execution_count": null,
   "id": "abda6dec",
   "metadata": {},
   "outputs": [],
   "source": [
    "# Cell 1: Update System and CUDA Setup\n",
    "# Update system and CUDA setup.\n",
    "!sudo pacman -Syu cuda --noconfirm"
   ]
  },
  {
   "cell_type": "code",
   "execution_count": null,
   "id": "f4f17a23",
   "metadata": {},
   "outputs": [],
   "source": [
    "# Check our cuda setup\n",
    "!nvidia-smi"
   ]
  },
  {
   "cell_type": "code",
   "execution_count": 1,
   "id": "7a528cc3",
   "metadata": {
    "execution": {
     "iopub.execute_input": "2024-10-30T20:26:01.065556Z",
     "iopub.status.busy": "2024-10-30T20:26:01.065342Z",
     "iopub.status.idle": "2024-10-30T20:26:13.509094Z",
     "shell.execute_reply": "2024-10-30T20:26:13.508521Z",
     "shell.execute_reply.started": "2024-10-30T20:26:01.065541Z"
    }
   },
   "outputs": [
    {
     "name": "stdout",
     "output_type": "stream",
     "text": [
      "Defaulting to user installation because normal site-packages is not writeable\n",
      "\u001b[33mWARNING: Ignoring invalid distribution ~vidia-cublas-cu12 (/home/phaedrus/.local/lib/python3.12/site-packages)\u001b[0m\u001b[33m\n",
      "\u001b[0mLooking in indexes: https://pypi.org/simple, https://pypi.ngc.nvidia.com, https://download.pytorch.org/whl/cu124, https://pypi.nvidia.com, https://developer.download.nvidia.com/compute/redist\n",
      "Requirement already satisfied: pygame in /home/phaedrus/.local/lib/python3.12/site-packages (2.6.1)\n",
      "\u001b[33mWARNING: Ignoring invalid distribution ~vidia-cublas-cu12 (/home/phaedrus/.local/lib/python3.12/site-packages)\u001b[0m\u001b[33m\n",
      "\u001b[0m\u001b[33mWARNING: Ignoring invalid distribution ~vidia-cublas-cu12 (/home/phaedrus/.local/lib/python3.12/site-packages)\u001b[0m\u001b[33m\n",
      "\u001b[0m\u001b[33mWARNING: Ignoring invalid distribution ~vidia-cublas-cu12 (/home/phaedrus/.local/lib/python3.12/site-packages)\u001b[0m\u001b[33m\n",
      "\u001b[0m\u001b[33mWARNING: Ignoring invalid distribution ~vidia-cublas-cu12 (/home/phaedrus/.local/lib/python3.12/site-packages)\u001b[0m\u001b[33m\n",
      "\u001b[0m\u001b[33mWARNING: Ignoring invalid distribution ~vidia-cublas-cu12 (/home/phaedrus/.local/lib/python3.12/site-packages)\u001b[0m\u001b[33m\n",
      "\u001b[0mName: pygame\n",
      "Version: 2.6.1\n",
      "Summary: Python Game Development\n",
      "Home-page: https://www.pygame.org\n",
      "Author: A community project.\n",
      "Author-email: pygame@pygame.org\n",
      "License: LGPL\n",
      "Location: /home/phaedrus/.local/lib/python3.12/site-packages\n",
      "Requires: \n",
      "Required-by: pygame-menu, pygame-widgets, ynot3\n",
      "Defaulting to user installation because normal site-packages is not writeable\n",
      "\u001b[33mWARNING: Ignoring invalid distribution ~vidia-cublas-cu12 (/home/phaedrus/.local/lib/python3.12/site-packages)\u001b[0m\u001b[33m\n",
      "\u001b[0mLooking in indexes: https://download.pytorch.org/whl/cu124, https://pypi.ngc.nvidia.com, https://download.pytorch.org/whl/cu124, https://pypi.nvidia.com, https://developer.download.nvidia.com/compute/redist\n",
      "Requirement already satisfied: tensorrt in /home/phaedrus/.local/lib/python3.12/site-packages (10.5.0)\n",
      "Requirement already satisfied: tensorrt-cu12==10.5.0 in /home/phaedrus/.local/lib/python3.12/site-packages (from tensorrt) (10.5.0)\n",
      "\u001b[33mWARNING: Ignoring invalid distribution ~vidia-cublas-cu12 (/home/phaedrus/.local/lib/python3.12/site-packages)\u001b[0m\u001b[33m\n",
      "\u001b[0m\u001b[33mWARNING: Ignoring invalid distribution ~vidia-cublas-cu12 (/home/phaedrus/.local/lib/python3.12/site-packages)\u001b[0m\u001b[33m\n",
      "\u001b[0m\u001b[33mWARNING: Ignoring invalid distribution ~vidia-cublas-cu12 (/home/phaedrus/.local/lib/python3.12/site-packages)\u001b[0m\u001b[33m\n",
      "\u001b[0m"
     ]
    }
   ],
   "source": [
    "# Cell 2: Install Required Packages\n",
    "# Install necessary packages\n",
    "!pip install pygame --break-system-packages\n",
    "!pip show pygame\n",
    "!pip install tensorrt -U --index-url https://download.pytorch.org/whl/cu124 --break-system-packages"
   ]
  },
  {
   "cell_type": "code",
   "execution_count": 2,
   "id": "d5ed2efe",
   "metadata": {
    "execution": {
     "iopub.execute_input": "2024-10-30T20:26:53.648793Z",
     "iopub.status.busy": "2024-10-30T20:26:53.648521Z",
     "iopub.status.idle": "2024-10-30T20:26:54.224983Z",
     "shell.execute_reply": "2024-10-30T20:26:54.224465Z",
     "shell.execute_reply.started": "2024-10-30T20:26:53.648770Z"
    }
   },
   "outputs": [
    {
     "name": "stdout",
     "output_type": "stream",
     "text": [
      "pygame 2.6.1 (SDL 2.28.4, Python 3.12.7)\n",
      "Hello from the pygame community. https://www.pygame.org/contribute.html\n"
     ]
    }
   ],
   "source": [
    "# Cell 3: Import Libraries\n",
    "import math\n",
    "import random\n",
    "from typing import List, Tuple\n",
    "import pygame\n",
    "from pygame import mixer\n",
    "print(\"Current SDL video driver:\", pygame.display.get_driver())"
   ]
  },
  {
   "cell_type": "code",
   "execution_count": 3,
   "id": "09a91b2c",
   "metadata": {
    "execution": {
     "iopub.execute_input": "2024-10-30T20:26:54.461203Z",
     "iopub.status.busy": "2024-10-30T20:26:54.460714Z",
     "iopub.status.idle": "2024-10-30T20:26:54.506748Z",
     "shell.execute_reply": "2024-10-30T20:26:54.504822Z",
     "shell.execute_reply.started": "2024-10-30T20:26:54.461182Z"
    },
    "lines_to_next_cell": 2
   },
   "outputs": [],
   "source": [
    "# Cell 4: Initialize Pygame\n",
    "# Initialize pygame\n",
    "if not pygame.get_init():\n",
    "    pygame.init()"
   ]
  },
  {
   "cell_type": "code",
   "execution_count": 4,
   "id": "3261664a-a149-4cf5-8737-eb93312ca66e",
   "metadata": {
    "execution": {
     "iopub.execute_input": "2024-10-30T20:26:55.517191Z",
     "iopub.status.busy": "2024-10-30T20:26:55.516940Z",
     "iopub.status.idle": "2024-10-30T20:26:55.744357Z",
     "shell.execute_reply": "2024-10-30T20:26:55.743898Z",
     "shell.execute_reply.started": "2024-10-30T20:26:55.517174Z"
    }
   },
   "outputs": [],
   "source": [
    "%gui qt"
   ]
  },
  {
   "cell_type": "code",
   "execution_count": 5,
   "id": "c4d3ba0f",
   "metadata": {
    "execution": {
     "iopub.execute_input": "2024-10-30T20:26:56.484009Z",
     "iopub.status.busy": "2024-10-30T20:26:56.483782Z",
     "iopub.status.idle": "2024-10-30T20:26:56.511708Z",
     "shell.execute_reply": "2024-10-30T20:26:56.510864Z",
     "shell.execute_reply.started": "2024-10-30T20:26:56.483986Z"
    },
    "lines_to_next_cell": 2
   },
   "outputs": [],
   "source": [
    "# Cell 5: Create Screen\n",
    "if not pygame.get_init():\n",
    "    pygame.init()\n",
    "\n",
    "if 'screen' not in globals():\n",
    "    screen = pygame.display.set_mode((800, 600))"
   ]
  },
  {
   "cell_type": "code",
   "execution_count": null,
   "id": "a429190a",
   "metadata": {
    "lines_to_next_cell": 2
   },
   "outputs": [],
   "source": [
    "# Cell 6: Load Assets\n",
    "# Background\n",
    "if 'background' not in globals():\n",
    "    background = pygame.image.load('background.png')"
   ]
  },
  {
   "cell_type": "code",
   "execution_count": null,
   "id": "c07e6609",
   "metadata": {},
   "outputs": [],
   "source": [
    "# Sound\n",
    "mixer.music.load(\"background.wav\")\n",
    "mixer.music.play(-1)"
   ]
  },
  {
   "cell_type": "code",
   "execution_count": null,
   "id": "440fd13c",
   "metadata": {},
   "outputs": [],
   "source": [
    "# Caption and Icon\n",
    "pygame.display.set_caption(\"Space Invader\")\n",
    "icon = pygame.image.load('ufo.png')\n",
    "pygame.display.set_icon(icon)"
   ]
  },
  {
   "cell_type": "code",
   "execution_count": null,
   "id": "ae94293c",
   "metadata": {},
   "outputs": [],
   "source": [
    "# Cell 7: Load Player\n",
    "# Player setup\n",
    "if 'playerImg' not in globals():\n",
    "    playerImg = pygame.image.load('player.png')\n",
    "    playerX = 370\n",
    "    playerY = 480\n",
    "    playerX_change = 0"
   ]
  },
  {
   "cell_type": "code",
   "execution_count": null,
   "id": "fb24ea32",
   "metadata": {},
   "outputs": [],
   "source": [
    "# Cell 8: Load Enemies\n",
    "# Enemy setup\n",
    "if not enemyImg:\n",
    "    num_of_enemies = 6\n",
    "    for i in range(num_of_enemies):\n",
    "        enemyImg.append(pygame.image.load('enemy.png'))\n",
    "        enemyX.append(random.randint(0, 736))\n",
    "        enemyY.append(random.randint(50, 150))\n",
    "        enemyX_change.append(4)\n",
    "        enemyY_change.append(40)\n",
    "# Cell 9: Bullet Setup\n",
    "# Bullet setup\n",
    "bulletImg = pygame.image.load('bullet.png')\n",
    "bulletX = 0\n",
    "bulletY = 480\n",
    "bulletX_change = 0\n",
    "bulletY_change = 10\n",
    "bullet_state = \"ready\""
   ]
  },
  {
   "cell_type": "code",
   "execution_count": null,
   "id": "1b017a6c",
   "metadata": {},
   "outputs": [],
   "source": [
    "# Cell 10: Score Setup\n",
    "# Score setup\n",
    "score_value = 0\n",
    "font = pygame.font.Font('freesansbold.ttf', 32)"
   ]
  },
  {
   "cell_type": "code",
   "execution_count": null,
   "id": "57bcf0bc",
   "metadata": {},
   "outputs": [],
   "source": [
    "textX = 10\n",
    "testY = 10"
   ]
  },
  {
   "cell_type": "code",
   "execution_count": null,
   "id": "ffa21f93",
   "metadata": {
    "lines_to_next_cell": 1
   },
   "outputs": [],
   "source": [
    "# Game Over setup\n",
    "over_font = pygame.font.Font('freesansbold.ttf', 64)"
   ]
  },
  {
   "cell_type": "code",
   "execution_count": null,
   "id": "d29f4e2f",
   "metadata": {
    "lines_to_next_cell": 1
   },
   "outputs": [],
   "source": [
    "# Cell 11: Functions\n",
    "# Define necessary functions\n",
    "def show_score(x, y):\n",
    "    score = font.render(\"Score : \" + str(score_value), True, (255, 255, 255))\n",
    "    screen.blit(score, (x, y))"
   ]
  },
  {
   "cell_type": "code",
   "execution_count": null,
   "id": "a2b0d414",
   "metadata": {
    "lines_to_next_cell": 1
   },
   "outputs": [],
   "source": [
    "def game_over_text():\n",
    "    over_text = over_font.render(\"GAME OVER\", True, (255, 255, 255))\n",
    "    screen.blit(over_text, (200, 250))"
   ]
  },
  {
   "cell_type": "code",
   "execution_count": null,
   "id": "34e10a2b",
   "metadata": {
    "lines_to_next_cell": 1
   },
   "outputs": [],
   "source": [
    "def player(x, y):\n",
    "    screen.blit(playerImg, (x, y))"
   ]
  },
  {
   "cell_type": "code",
   "execution_count": null,
   "id": "d40d51ac",
   "metadata": {
    "lines_to_next_cell": 1
   },
   "outputs": [],
   "source": [
    "def enemy(x, y, i):\n",
    "    screen.blit(enemyImg[i], (x, y))"
   ]
  },
  {
   "cell_type": "code",
   "execution_count": null,
   "id": "7445afef",
   "metadata": {
    "lines_to_next_cell": 1
   },
   "outputs": [],
   "source": [
    "def fire_bullet(x, y):\n",
    "    global bullet_state\n",
    "    bullet_state = \"fire\"\n",
    "    screen.blit(bulletImg, (x + 16, y + 10))"
   ]
  },
  {
   "cell_type": "code",
   "execution_count": null,
   "id": "c45a336f",
   "metadata": {
    "lines_to_next_cell": 1
   },
   "outputs": [],
   "source": [
    "def isCollision(enemyX, enemyY, bulletX, bulletY):\n",
    "    distance = math.sqrt(math.pow(enemyX - bulletX, 2) + (math.pow(enemyY - bulletY, 2)))\n",
    "    if distance < 27:\n",
    "        return True\n",
    "    else:\n",
    "        return False"
   ]
  },
  {
   "cell_type": "code",
   "execution_count": null,
   "id": "c2b3fcee",
   "metadata": {
    "lines_to_next_cell": 2
   },
   "outputs": [],
   "source": [
    "# Cell 12: Main Game Loop\n",
    "# Game Loop\n",
    "running = True\n",
    "while running:\n",
    "    # RGB = Red, Green, Blue\n",
    "    screen.fill((0, 0, 0))\n",
    "    # Background Image\n",
    "    screen.blit(background, (0, 0))\n",
    "    \n",
    "    for event in pygame.event.get():\n",
    "        if event.type == pygame.QUIT:\n",
    "            running = False\n",
    "\n",
    "        # If keystroke is pressed check whether it's right or left\n",
    "        if event.type == pygame.KEYDOWN:\n",
    "            if event.key == pygame.K_LEFT:\n",
    "                playerX_change = -5\n",
    "            if event.key == pygame.K_RIGHT:\n",
    "                playerX_change = 5\n",
    "            if event.key == pygame.K_SPACE:\n",
    "                if bullet_state == \"ready\":\n",
    "                    bulletSound = mixer.Sound(\"laser.wav\")\n",
    "                    bulletSound.play()\n",
    "                    # Get the current x coordinate of the spaceship\n",
    "                    bulletX = playerX\n",
    "                    fire_bullet(bulletX, bulletY)\n",
    "\n",
    "        if event.type == pygame.KEYUP:\n",
    "            if event.key == pygame.K_LEFT or event.key == pygame.K_RIGHT:\n",
    "                playerX_change = 0\n",
    "\n",
    "    # Player Movement\n",
    "    playerX += playerX_change\n",
    "    if playerX <= 0:\n",
    "        playerX = 0\n",
    "    elif playerX >= 736:\n",
    "        playerX = 736\n",
    "\n",
    "    # Enemy Movement\n",
    "    for i in range(num_of_enemies):\n",
    "\n",
    "        # Game Over\n",
    "        if enemyY[i] > 440:\n",
    "            for j in range(num_of_enemies):\n",
    "                enemyY[j] = 2000\n",
    "            game_over_text()\n",
    "            break\n",
    "\n",
    "        enemyX[i] += enemyX_change[i]\n",
    "        if enemyX[i] <= 0:\n",
    "            enemyX_change[i] = 4\n",
    "            enemyY[i] += enemyY_change[i]\n",
    "        elif enemyX[i] >= 736:\n",
    "            enemyX_change[i] = -4\n",
    "            enemyY[i] += enemyY_change[i]\n",
    "\n",
    "        # Collision\n",
    "        collision = isCollision(enemyX[i], enemyY[i], bulletX, bulletY)\n",
    "        if collision:\n",
    "            explosionSound = mixer.Sound(\"explosion.wav\")\n",
    "            explosionSound.play()\n",
    "            bulletY = 480\n",
    "            bullet_state = \"ready\"\n",
    "            score_value += 1\n",
    "            enemyX[i] = random.randint(0, 736)\n",
    "            enemyY[i] = random.randint(50, 150)\n",
    "\n",
    "        enemy(enemyX[i], enemyY[i], i)\n",
    "\n",
    "    # Bullet Movement\n",
    "    if bulletY <= 0:\n",
    "        bulletY = 480\n",
    "        bullet_state = \"ready\"\n",
    "\n",
    "    if bullet_state == \"fire\":\n",
    "        fire_bullet(bulletX, bulletY)\n",
    "        bulletY -= bulletY_change\n",
    "\n",
    "    player(playerX, playerY)\n",
    "    show_score(textX, testY)\n",
    "    pygame.display.update()"
   ]
  }
 ],
 "metadata": {
  "jupytext": {
   "cell_metadata_filter": "-all",
   "main_language": "python",
   "notebook_metadata_filter": "-all"
  },
  "kernelspec": {
   "display_name": "Python 3 (ipykernel)",
   "language": "python",
   "name": "python3"
  },
  "language_info": {
   "codemirror_mode": {
    "name": "ipython",
    "version": 3
   },
   "file_extension": ".py",
   "mimetype": "text/x-python",
   "name": "python",
   "nbconvert_exporter": "python",
   "pygments_lexer": "ipython3",
   "version": "3.12.7"
  }
 },
 "nbformat": 4,
 "nbformat_minor": 5
}
